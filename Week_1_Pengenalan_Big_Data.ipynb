{
  "nbformat": 4,
  "nbformat_minor": 0,
  "metadata": {
    "colab": {
      "provenance": [],
      "authorship_tag": "ABX9TyOxihEuRUA1dvGCeCAT7eTl",
      "include_colab_link": true
    },
    "kernelspec": {
      "name": "python3",
      "display_name": "Python 3"
    },
    "language_info": {
      "name": "python"
    }
  },
  "cells": [
    {
      "cell_type": "markdown",
      "metadata": {
        "id": "view-in-github",
        "colab_type": "text"
      },
      "source": [
        "<a href=\"https://colab.research.google.com/github/luluatina/Big-Data-1/blob/main/Week_1_Pengenalan_Big_Data.ipynb\" target=\"_parent\"><img src=\"https://colab.research.google.com/assets/colab-badge.svg\" alt=\"Open In Colab\"/></a>"
      ]
    },
    {
      "cell_type": "markdown",
      "source": [
        "# Pengenalan dan Praktik Dasar PySpark dan Pandas"
      ],
      "metadata": {
        "id": "PqoruMtyzTUx"
      }
    },
    {
      "cell_type": "markdown",
      "source": [
        "Tugas 1"
      ],
      "metadata": {
        "id": "FcPAalPs3I7q"
      }
    },
    {
      "cell_type": "code",
      "execution_count": null,
      "metadata": {
        "colab": {
          "base_uri": "https://localhost:8080/"
        },
        "id": "TEU2fbpctnFZ",
        "outputId": "54aafc90-802f-41e8-d316-0a1a6b93e797"
      },
      "outputs": [
        {
          "output_type": "stream",
          "name": "stdout",
          "text": [
            "+-----+----+--------------+---------------+------+\n",
            "| Nama|Usia|     Pekerjaan|           Hobi|Gender|\n",
            "+-----+----+--------------+---------------+------+\n",
            "|  Ali|  34|Dosen Big Data| Bermain Sudoku|    Lk|\n",
            "| Budi|  23|Game Developer|   Bermain Game|    Lk|\n",
            "|Citra|  29|       Guru TK|    Programming|    Pr|\n",
            "| Dina|  45|Dosen Kalkulus|Menulis Artikel|    Pr|\n",
            "+-----+----+--------------+---------------+------+\n",
            "\n"
          ]
        }
      ],
      "source": [
        "from pyspark.sql import SparkSession\n",
        "\n",
        "#Memulai Spark Session\n",
        "spark = SparkSession.builder.appName(\"BigDataPractice\").getOrCreate()\n",
        "\n",
        "#Membuat DataFrame sederhana\n",
        "data = [(\"Ali\", 34, \"Dosen Big Data\", \"Bermain Sudoku\", \"Lk\"),\n",
        "        (\"Budi\", 23, \"Game Developer\", \"Bermain Game\", \"Lk\"),\n",
        "        (\"Citra\", 29, \"Guru TK\", \"Programming\", \"Pr\"),\n",
        "        (\"Dina\", 45, \"Dosen Kalkulus\", \"Menulis Artikel\", \"Pr\")]\n",
        "columns = [\"Nama\", \"Usia\", \"Pekerjaan\", \"Hobi\", \"Gender\"]\n",
        "df = spark.createDataFrame(data, columns)\n",
        "\n",
        "#Menampilkan DataFrame\n",
        "df.show()"
      ]
    },
    {
      "cell_type": "markdown",
      "source": [
        "# Praktik PySpark Lanjutan\n"
      ],
      "metadata": {
        "id": "Nkw8S_qNzrYt"
      }
    },
    {
      "cell_type": "markdown",
      "source": [
        "Latihan 1"
      ],
      "metadata": {
        "id": "WM5Ap00A3bfs"
      }
    },
    {
      "cell_type": "code",
      "source": [
        "from pyspark.sql import SparkSession\n",
        "# Memulai Spark Session\n",
        "spark = SparkSession.builder.appName(\"BigDataPractice\").getOrCreate()\n",
        "\n",
        "# Membuat DataFrame sederhana\n",
        "data = [(\"Ali\", 34), (\"Budi\", 23), (\"Citra\", 29), (\"Dina\", 45)]\n",
        "columns = [\"Nama\", \"Usia\"]\n",
        "df = spark.createDataFrame(data, columns)\n",
        "\n",
        "# Menampilkan DataFrame\n",
        "df.show()\n",
        "\n",
        "# Filtering data\n",
        "df_filtered = df.filter(df['Usia'] > 30)\n",
        "df_filtered.show()\n",
        "\n",
        "# Menghitung rata-rata usia\n",
        "from pyspark.sql.functions import avg\n",
        "df.groupBy().agg(avg(\"Usia\")).show()\n",
        "\n",
        "# Mengurutkan data berdasarkan usia\n",
        "df_sorted = df.orderBy(\"Usia\", ascending=False)\n",
        "df_sorted.show()"
      ],
      "metadata": {
        "colab": {
          "base_uri": "https://localhost:8080/"
        },
        "id": "F9QlAYyJuy4q",
        "outputId": "e8cce7af-8c81-49f3-e78f-920536aca6fe"
      },
      "execution_count": null,
      "outputs": [
        {
          "output_type": "stream",
          "name": "stdout",
          "text": [
            "+-----+----+\n",
            "| Nama|Usia|\n",
            "+-----+----+\n",
            "|  Ali|  34|\n",
            "| Budi|  23|\n",
            "|Citra|  29|\n",
            "| Dina|  45|\n",
            "+-----+----+\n",
            "\n",
            "+----+----+\n",
            "|Nama|Usia|\n",
            "+----+----+\n",
            "| Ali|  34|\n",
            "|Dina|  45|\n",
            "+----+----+\n",
            "\n",
            "+---------+\n",
            "|avg(Usia)|\n",
            "+---------+\n",
            "|    32.75|\n",
            "+---------+\n",
            "\n",
            "+-----+----+\n",
            "| Nama|Usia|\n",
            "+-----+----+\n",
            "| Dina|  45|\n",
            "|  Ali|  34|\n",
            "|Citra|  29|\n",
            "| Budi|  23|\n",
            "+-----+----+\n",
            "\n"
          ]
        }
      ]
    },
    {
      "cell_type": "markdown",
      "source": [
        "Tugas 2"
      ],
      "metadata": {
        "id": "0j5MUxXN3hNG"
      }
    },
    {
      "cell_type": "code",
      "source": [
        "from pyspark.sql import SparkSession\n",
        "from pyspark.sql.functions import avg, col # Import col function\n",
        "\n",
        "# Memulai Spark Session\n",
        "spark = SparkSession.builder.appName(\"BigDataPractice\").getOrCreate()\n",
        "\n",
        "# Membuat DataFrame sederhana\n",
        "data = [(\"Ali\", 34), (\"Budi\", 23), (\"Citra\", 29), (\"Dina\", 45)]\n",
        "columns = [\"Nama\", \"Usia\"]\n",
        "df = spark.createDataFrame(data, columns)\n",
        "\n",
        "# Menampilkan DataFrame\n",
        "df.show()\n",
        "\n",
        "# Filtering data\n",
        "\n",
        "# 1. Menampilkan usia di atas 30 tahun\n",
        "df_filtered = df.filter(df['Usia'] > 30)\n",
        "\n",
        "# 2. Hitung rata-rata usia\n",
        "df_avg = df_filtered.agg(avg(\"usia\").alias(\"rata_rata_usia\"))\n",
        "\n",
        "# 3. Urutkan data berdasarkan usia (descending)\n",
        "df_sorted = df_filtered.orderBy(col(\"usia\").desc())\n",
        "df_filtered.show()\n",
        "\n",
        "# Menghitung rata-rata usia\n",
        "from pyspark.sql.functions import avg\n",
        "df.groupBy().agg(avg(\"Usia\")).show()\n",
        "\n",
        "# Mengurutkan data berdasarkan usia\n",
        "df_sorted = df.orderBy(\"Usia\", ascending=False)\n",
        "df_sorted.show()"
      ],
      "metadata": {
        "colab": {
          "base_uri": "https://localhost:8080/"
        },
        "id": "4_L2CejD3mhH",
        "outputId": "31bb38f2-b253-4582-a93e-4ca064eef09f"
      },
      "execution_count": null,
      "outputs": [
        {
          "output_type": "stream",
          "name": "stdout",
          "text": [
            "+-----+----+\n",
            "| Nama|Usia|\n",
            "+-----+----+\n",
            "|  Ali|  34|\n",
            "| Budi|  23|\n",
            "|Citra|  29|\n",
            "| Dina|  45|\n",
            "+-----+----+\n",
            "\n",
            "+----+----+\n",
            "|Nama|Usia|\n",
            "+----+----+\n",
            "| Ali|  34|\n",
            "|Dina|  45|\n",
            "+----+----+\n",
            "\n",
            "+---------+\n",
            "|avg(Usia)|\n",
            "+---------+\n",
            "|    32.75|\n",
            "+---------+\n",
            "\n",
            "+-----+----+\n",
            "| Nama|Usia|\n",
            "+-----+----+\n",
            "| Dina|  45|\n",
            "|  Ali|  34|\n",
            "|Citra|  29|\n",
            "| Budi|  23|\n",
            "+-----+----+\n",
            "\n"
          ]
        }
      ]
    },
    {
      "cell_type": "markdown",
      "source": [
        "# Praktik dengan Pandas"
      ],
      "metadata": {
        "id": "mCFY2ZRN8lZh"
      }
    },
    {
      "cell_type": "markdown",
      "source": [
        "Latihan 2"
      ],
      "metadata": {
        "id": "IKCNghQ98wgc"
      }
    },
    {
      "cell_type": "code",
      "source": [
        "import pandas as pd\n",
        "\n",
        "# Membuat DataFrame Pandas\n",
        "data_pandas = {\"Nama\": [\"Ali\", \"Budi\", \"Citra\", \"Dina\"], \"Usia\": [34, 23, 29, 45]}\n",
        "df_pandas = pd.DataFrame(data_pandas)\n",
        "\n",
        "# Menampilkan DataFrame Pandas\n",
        "print(df_pandas)"
      ],
      "metadata": {
        "colab": {
          "base_uri": "https://localhost:8080/"
        },
        "id": "Od4GmBIH8t8k",
        "outputId": "e9be4619-fcfe-4b08-e703-cfa07a99c13f"
      },
      "execution_count": null,
      "outputs": [
        {
          "output_type": "stream",
          "name": "stdout",
          "text": [
            "    Nama  Usia\n",
            "0    Ali    34\n",
            "1   Budi    23\n",
            "2  Citra    29\n",
            "3   Dina    45\n"
          ]
        }
      ]
    },
    {
      "cell_type": "markdown",
      "source": [
        "Tugas 3"
      ],
      "metadata": {
        "id": "9xjb5h8p-CY-"
      }
    },
    {
      "cell_type": "code",
      "source": [
        "import pandas as pd\n",
        "\n",
        "# Membuat DataFrame Pandas\n",
        "data_pandas = {\"Nama\": [\"Ali\", \"Budi\", \"Citra\", \"Dina\"], \"Usia\": [34, 23, 29, 45]}\n",
        "df_pandas = pd.DataFrame(data_pandas)\n",
        "\n",
        "# Menampilkan DataFrame Pandas\n",
        "print(df_pandas)\n",
        "\n",
        "# Menambahkan kolom baru, misalnya kategori usia\n",
        "df_pandas[\"Kategori\"] = df_pandas[\"Usia\"].apply(\n",
        "    lambda x: \"Muda\" if x < 30 else \"Dewasa\"\n",
        ")\n",
        "\n",
        "# Filtering data berdasarkan usia (misal hanya yang Usia >= 30)\n",
        "df_filtered = df_pandas[df_pandas[\"Usia\"] >= 30]\n",
        "\n",
        "# Menampilkan hasil\n",
        "print(\"DataFrame Asli:\")\n",
        "print(df_pandas)\n",
        "\n",
        "print(\"\\nDataFrame Setelah Filter (Usia >= 30):\")\n",
        "print(df_filtered)"
      ],
      "metadata": {
        "colab": {
          "base_uri": "https://localhost:8080/"
        },
        "id": "08HLzw7x-EXY",
        "outputId": "eba55e68-03e8-4a59-ea55-b5496fa09288"
      },
      "execution_count": null,
      "outputs": [
        {
          "output_type": "stream",
          "name": "stdout",
          "text": [
            "    Nama  Usia\n",
            "0    Ali    34\n",
            "1   Budi    23\n",
            "2  Citra    29\n",
            "3   Dina    45\n",
            "DataFrame Asli:\n",
            "    Nama  Usia Kategori\n",
            "0    Ali    34   Dewasa\n",
            "1   Budi    23     Muda\n",
            "2  Citra    29     Muda\n",
            "3   Dina    45   Dewasa\n",
            "\n",
            "DataFrame Setelah Filter (Usia >= 30):\n",
            "   Nama  Usia Kategori\n",
            "0   Ali    34   Dewasa\n",
            "3  Dina    45   Dewasa\n"
          ]
        }
      ]
    },
    {
      "cell_type": "markdown",
      "source": [
        "# Praktik Pandas Lanjutan"
      ],
      "metadata": {
        "id": "iQiQ9Osm_YfS"
      }
    },
    {
      "cell_type": "markdown",
      "source": [
        "Latihan 3"
      ],
      "metadata": {
        "id": "dpHm6Ejy_g5R"
      }
    },
    {
      "cell_type": "code",
      "source": [
        "import pandas as pd\n",
        "\n",
        "# Membuat DataFrame Pandas\n",
        "data_pandas = {\"Nama\": [\"Ali\", \"Budi\", \"Citra\", \"Dina\"], \"Usia\": [34, 23, 29, 45]}\n",
        "df_pandas = pd.DataFrame(data_pandas)\n",
        "\n",
        "# Menampilkan DataFrame Pandas\n",
        "data_pandas_2 = {\"Nama\": [\"Ali\", \"Budi\", \"Citra\", \"Dina\"], \"Pekerjaan\": [\"Dokter\", \"Guru\", \"Insinyur\", \"Perawat\"]}\n",
        "df_pandas_2 = pd.DataFrame(data_pandas_2)\n",
        "\n",
        "# Join antara dua DataFrame\n",
        "df_joined = pd.merge(df_pandas, df_pandas_2, on=\"Nama\")\n",
        "print(df_joined)\n",
        "\n",
        "# Menghitung statistik deskriptif\n",
        "print(df_pandas.describe())\n",
        "\n",
        "# Plotting Data\n",
        "import matplotlib.pyplot as plt\n",
        "df_pandas['Usia'].plot(kind='bar')\n",
        "plt.show()"
      ],
      "metadata": {
        "colab": {
          "base_uri": "https://localhost:8080/",
          "height": 668
        },
        "id": "T9Clxrjb_jIS",
        "outputId": "e75c026f-9319-48eb-e007-e948ae5e165b"
      },
      "execution_count": null,
      "outputs": [
        {
          "output_type": "stream",
          "name": "stdout",
          "text": [
            "    Nama  Usia Pekerjaan\n",
            "0    Ali    34    Dokter\n",
            "1   Budi    23      Guru\n",
            "2  Citra    29  Insinyur\n",
            "3   Dina    45   Perawat\n",
            "            Usia\n",
            "count   4.000000\n",
            "mean   32.750000\n",
            "std     9.322911\n",
            "min    23.000000\n",
            "25%    27.500000\n",
            "50%    31.500000\n",
            "75%    36.750000\n",
            "max    45.000000\n"
          ]
        },
        {
          "output_type": "display_data",
          "data": {
            "text/plain": [
              "<Figure size 640x480 with 1 Axes>"
            ],
            "image/png": "[encoded data removed]"
          },
          "metadata": {}
        }
      ]
    },
    {
      "cell_type": "markdown",
      "source": [
        "Tugas 4"
      ],
      "metadata": {
        "id": "usKVbNwoBiAU"
      }
    },
    {
      "cell_type": "code",
      "source": [
        "import pandas as pd\n",
        "import matplotlib.pyplot as plt\n",
        "\n",
        "# DataFrame pertama\n",
        "df1 = pd.DataFrame({\n",
        "    \"Nama\": [\"Ali\", \"Budi\", \"Citra\", \"Dina\"],\n",
        "    \"Usia\": [34, 23, 29, 45]\n",
        "})\n",
        "\n",
        "# DataFrame kedua\n",
        "df2 = pd.DataFrame({\n",
        "    \"Nama\": [\"Ali\", \"Budi\", \"Citra\", \"Dina\"],\n",
        "    \"Pekerjaan\": [\"Dokter\", \"Guru\", \"Insinyur\", \"Perawat\"]\n",
        "})\n",
        "\n",
        "# Gabungkan kedua DataFrame berdasarkan kolom \"Nama\"\n",
        "df_merged = pd.merge(df1, df2, on=\"Nama\")\n",
        "print(\"Hasil Gabungan DataFrame:\")\n",
        "print(df_merged)\n",
        "\n",
        "# Visualisasi usia tiap orang dengan bar chart\n",
        "df_merged.plot(x=\"Nama\", y=\"Usia\", kind=\"bar\", legend=False, title=\"Usia per Nama\")\n",
        "plt.ylabel(\"Usia\")\n",
        "plt.show()\n",
        "\n",
        "# Visualisasi distribusi usia dengan histogram\n",
        "df_merged[\"Usia\"].plot(kind=\"hist\", bins=5, title=\"Distribusi Usia\")\n",
        "plt.xlabel(\"Usia\")\n",
        "plt.show()\n"
      ],
      "metadata": {
        "colab": {
          "base_uri": "https://localhost:8080/",
          "height": 1000
        },
        "id": "pjzWl5B5Bj7S",
        "outputId": "c42ade24-2d5f-41ef-c612-2a07141792e4"
      },
      "execution_count": null,
      "outputs": [
        {
          "output_type": "stream",
          "name": "stdout",
          "text": [
            "Hasil Gabungan DataFrame:\n",
            "    Nama  Usia Pekerjaan\n",
            "0    Ali    34    Dokter\n",
            "1   Budi    23      Guru\n",
            "2  Citra    29  Insinyur\n",
            "3   Dina    45   Perawat\n"
          ]
        },
        {
          "output_type": "display_data",
          "data": {
            "text/plain": [
              "<Figure size 640x480 with 1 Axes>"
            ],
            "image/png": "[encoded data removed]"
          },
          "metadata": {}
        },
        {
          "output_type": "display_data",
          "data": {
            "text/plain": [
              "<Figure size 640x480 with 1 Axes>"
            ],
            "image/png": "[encoded data removed]"
          },
          "metadata": {}
        }
      ]
    },
    {
      "cell_type": "markdown",
      "source": [
        "# Menggabungkan PySpark dan Pandas"
      ],
      "metadata": {
        "id": "3ABW3N9RB3Tq"
      }
    },
    {
      "cell_type": "markdown",
      "source": [
        "Latihan 4"
      ],
      "metadata": {
        "id": "udPnbzy7CAc_"
      }
    },
    {
      "cell_type": "code",
      "source": [
        "# Mengonversi DataFrame dari PySpark ke Pandas\n",
        "df_pandas_from_spark = df.toPandas()\n",
        "\n",
        "# Mengonversi DataFrame dari Pandas ke PySpark\n",
        "df_spark_from_pandas = spark.createDataFrame(df_pandas)\n",
        "\n",
        "# Menampilkan DataFrame hasil konversi\n",
        "df_pandas_from_spark, df_spark_from_pandas.show()"
      ],
      "metadata": {
        "colab": {
          "base_uri": "https://localhost:8080/"
        },
        "id": "3bEKNvskB-jt",
        "outputId": "f0d987e1-4859-4f8c-8e80-0eae0072b96a"
      },
      "execution_count": null,
      "outputs": [
        {
          "output_type": "stream",
          "name": "stdout",
          "text": [
            "+-----+----+\n",
            "| Nama|Usia|\n",
            "+-----+----+\n",
            "|  Ali|  34|\n",
            "| Budi|  23|\n",
            "|Citra|  29|\n",
            "| Dina|  45|\n",
            "+-----+----+\n",
            "\n"
          ]
        },
        {
          "output_type": "execute_result",
          "data": {
            "text/plain": [
              "(    Nama  Usia\n",
              " 0    Ali    34\n",
              " 1   Budi    23\n",
              " 2  Citra    29\n",
              " 3   Dina    45,\n",
              " None)"
            ]
          },
          "metadata": {},
          "execution_count": 13
        }
      ]
    },
    {
      "cell_type": "markdown",
      "source": [
        "Tugas 5"
      ],
      "metadata": {
        "id": "vfsphlw8DN8O"
      }
    },
    {
      "cell_type": "code",
      "source": [
        "from pyspark.sql import SparkSession\n",
        "import pandas as pd\n",
        "from pyspark.sql.functions import avg\n",
        "\n",
        "# Inisialisasi Spark\n",
        "spark = SparkSession.builder.appName(\"IntegrasiSparkPandas\").getOrCreate()\n",
        "\n",
        "# ====== Data di PySpark ======\n",
        "data_spark = [\n",
        "    (\"Andi\", 25, \"Jakarta\"),\n",
        "    (\"Budi\", 30, \"Bandung\"),\n",
        "    (\"Citra\", 22, \"Jakarta\")\n",
        "]\n",
        "columns_spark = [\"Nama\", \"Usia\", \"Kota\"]\n",
        "df_spark = spark.createDataFrame(data_spark, columns_spark)\n",
        "\n",
        "# ====== Data di Pandas ======\n",
        "data_pandas = {\n",
        "    \"Nama\": [\"Dewi\", \"Eka\"],\n",
        "    \"Usia\": [28, 35],\n",
        "    \"Kota\": [\"Surabaya\", \"Jakarta\"]\n",
        "}\n",
        "df_pandas = pd.DataFrame(data_pandas)\n",
        "\n",
        "# Konversi Pandas -> PySpark\n",
        "df_spark_from_pandas = spark.createDataFrame(df_pandas)\n",
        "\n",
        "# Gabungkan Data PySpark + Data dari Pandas\n",
        "df_combined = df_spark.union(df_spark_from_pandas)\n",
        "\n",
        "print(\"Data Gabungan (PySpark + Pandas):\")\n",
        "df_combined.show()\n",
        "\n",
        "# Analisis sederhana: rata-rata usia\n",
        "df_avg = df_combined.agg(avg(\"Usia\").alias(\"Rata_Rata_Usia\"))\n",
        "print(\"Rata-rata Usia:\")\n",
        "df_avg.show()\n"
      ],
      "metadata": {
        "colab": {
          "base_uri": "https://localhost:8080/"
        },
        "id": "fpnr8GuzCwk6",
        "outputId": "7e0dde6e-c3a8-4a6f-fdaa-a773408f5e71"
      },
      "execution_count": null,
      "outputs": [
        {
          "output_type": "stream",
          "name": "stdout",
          "text": [
            "Data Gabungan (PySpark + Pandas):\n",
            "+-----+----+--------+\n",
            "| Nama|Usia|    Kota|\n",
            "+-----+----+--------+\n",
            "| Andi|  25| Jakarta|\n",
            "| Budi|  30| Bandung|\n",
            "|Citra|  22| Jakarta|\n",
            "| Dewi|  28|Surabaya|\n",
            "|  Eka|  35| Jakarta|\n",
            "+-----+----+--------+\n",
            "\n",
            "Rata-rata Usia:\n",
            "+--------------+\n",
            "|Rata_Rata_Usia|\n",
            "+--------------+\n",
            "|          28.0|\n",
            "+--------------+\n",
            "\n"
          ]
        }
      ]
    },
    {
      "cell_type": "markdown",
      "source": [
        "# Konversi Data antara PySpark dan Pandas"
      ],
      "metadata": {
        "id": "7MZI5Kf2DeB2"
      }
    },
    {
      "cell_type": "markdown",
      "source": [
        "Tugas 6"
      ],
      "metadata": {
        "id": "GLVM-Fp6DojL"
      }
    },
    {
      "cell_type": "code",
      "source": [
        "from pyspark.sql import SparkSession\n",
        "import pandas as pd\n",
        "from pyspark.sql.functions import max\n",
        "\n",
        "# Inisialisasi Spark\n",
        "spark = SparkSession.builder.appName(\"IntegrasiSparkPandas\").getOrCreate()\n",
        "\n",
        "# ===== Data PySpark =====\n",
        "data_spark = [\n",
        "    (\"Andi\", 25, \"Jakarta\"),\n",
        "    (\"Budi\", 30, \"Bandung\"),\n",
        "    (\"Citra\", 22, \"Jakarta\")\n",
        "]\n",
        "columns = [\"Nama\", \"Usia\", \"Kota\"]\n",
        "df_spark = spark.createDataFrame(data_spark, columns)\n",
        "\n",
        "# ===== Data Pandas =====\n",
        "data_pandas = {\n",
        "    \"Nama\": [\"Dewi\", \"Eka\"],\n",
        "    \"Usia\": [28, 35],\n",
        "    \"Kota\": [\"Surabaya\", \"Jakarta\"]\n",
        "}\n",
        "df_pandas = pd.DataFrame(data_pandas)\n",
        "\n",
        "# Konversi Pandas -> PySpark\n",
        "df_spark_from_pandas = spark.createDataFrame(df_pandas)\n",
        "\n",
        "# Gabungkan DataFrame PySpark + hasil konversi Pandas\n",
        "df_combined = df_spark.union(df_spark_from_pandas)\n",
        "\n",
        "print(\"Data gabungan (PySpark + Pandas):\")\n",
        "df_combined.show()\n",
        "\n",
        "# Operasi statistik: cari usia maksimum\n",
        "df_max = df_combined.agg(max(\"Usia\").alias(\"Maksimum_Usia\"))\n",
        "\n",
        "print(\"Nilai maksimum usia:\")\n",
        "df_max.show()\n"
      ],
      "metadata": {
        "colab": {
          "base_uri": "https://localhost:8080/"
        },
        "id": "kS3njLYKDvId",
        "outputId": "50d721ab-1ff3-4585-b6c2-e47ef3f9d321"
      },
      "execution_count": null,
      "outputs": [
        {
          "output_type": "stream",
          "name": "stdout",
          "text": [
            "Data gabungan (PySpark + Pandas):\n",
            "+-----+----+--------+\n",
            "| Nama|Usia|    Kota|\n",
            "+-----+----+--------+\n",
            "| Andi|  25| Jakarta|\n",
            "| Budi|  30| Bandung|\n",
            "|Citra|  22| Jakarta|\n",
            "| Dewi|  28|Surabaya|\n",
            "|  Eka|  35| Jakarta|\n",
            "+-----+----+--------+\n",
            "\n",
            "Nilai maksimum usia:\n",
            "+-------------+\n",
            "|Maksimum_Usia|\n",
            "+-------------+\n",
            "|           35|\n",
            "+-------------+\n",
            "\n"
          ]
        }
      ]
    }
  ]
}